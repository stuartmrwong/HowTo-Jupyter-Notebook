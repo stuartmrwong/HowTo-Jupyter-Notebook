{
 "cells": [
  {
   "cell_type": "markdown",
   "metadata": {},
   "source": [
    "# This is a jupyter notebook\n",
    "\n",
    "You can create cells in a jupyter notebook by using the 'plus' button above\n",
    "\n",
    "There are hotkeys like 'dd' to delete a cell, and ctrl+enter to run the code in a code cell\n",
    "\n",
    "You can change the type of cell to a 'code' cell, this will allow you to run code in it like import your modules:"
   ]
  },
  {
   "cell_type": "code",
   "execution_count": 10,
   "metadata": {
    "scrolled": true
   },
   "outputs": [],
   "source": [
    "import numpy as np\n",
    "import matplotlib.pyplot as plt\n",
    "import pandas as pd"
   ]
  },
  {
   "cell_type": "markdown",
   "metadata": {},
   "source": [
    "## But Stuart what's the point of this I could have just commented my code... \n",
    "well hello there engineer friend! Sometimes you actually need to talk to other people and show them things that are meaningful, instead of just telling them that you know what you're doing and they need to leave you alone :)\n",
    "\n",
    "also let's face it, you don't comment your code"
   ]
  },
  {
   "cell_type": "markdown",
   "metadata": {},
   "source": [
    "## Next lets show some data visualization\n",
    "\n",
    "I used this dataset that I got from UC Irvine (go anteaters!) about abalones\n",
    "https://archive.ics.uci.edu/ml/datasets.php\n",
    "\n",
    "as you can see below you can show dataframes in jupyter notebooks!"
   ]
  },
  {
   "cell_type": "code",
   "execution_count": 11,
   "metadata": {
    "scrolled": true
   },
   "outputs": [
    {
     "name": "stdout",
     "output_type": "stream",
     "text": [
      "      0      1      2      3       4       5       6       7   8\n",
      "0     M  0.455  0.365  0.095  0.5140  0.2245  0.1010  0.1500  15\n",
      "1     M  0.350  0.265  0.090  0.2255  0.0995  0.0485  0.0700   7\n",
      "2     F  0.530  0.420  0.135  0.6770  0.2565  0.1415  0.2100   9\n",
      "3     M  0.440  0.365  0.125  0.5160  0.2155  0.1140  0.1550  10\n",
      "4     I  0.330  0.255  0.080  0.2050  0.0895  0.0395  0.0550   7\n",
      "5     I  0.425  0.300  0.095  0.3515  0.1410  0.0775  0.1200   8\n",
      "6     F  0.530  0.415  0.150  0.7775  0.2370  0.1415  0.3300  20\n",
      "7     F  0.545  0.425  0.125  0.7680  0.2940  0.1495  0.2600  16\n",
      "8     M  0.475  0.370  0.125  0.5095  0.2165  0.1125  0.1650   9\n",
      "9     F  0.550  0.440  0.150  0.8945  0.3145  0.1510  0.3200  19\n",
      "10    F  0.525  0.380  0.140  0.6065  0.1940  0.1475  0.2100  14\n",
      "11    M  0.430  0.350  0.110  0.4060  0.1675  0.0810  0.1350  10\n",
      "12    M  0.490  0.380  0.135  0.5415  0.2175  0.0950  0.1900  11\n",
      "13    F  0.535  0.405  0.145  0.6845  0.2725  0.1710  0.2050  10\n",
      "14    F  0.470  0.355  0.100  0.4755  0.1675  0.0805  0.1850  10\n",
      "15    M  0.500  0.400  0.130  0.6645  0.2580  0.1330  0.2400  12\n",
      "16    I  0.355  0.280  0.085  0.2905  0.0950  0.0395  0.1150   7\n",
      "17    F  0.440  0.340  0.100  0.4510  0.1880  0.0870  0.1300  10\n",
      "18    M  0.365  0.295  0.080  0.2555  0.0970  0.0430  0.1000   7\n",
      "19    M  0.450  0.320  0.100  0.3810  0.1705  0.0750  0.1150   9\n",
      "20    M  0.355  0.280  0.095  0.2455  0.0955  0.0620  0.0750  11\n",
      "21    I  0.380  0.275  0.100  0.2255  0.0800  0.0490  0.0850  10\n",
      "22    F  0.565  0.440  0.155  0.9395  0.4275  0.2140  0.2700  12\n",
      "23    F  0.550  0.415  0.135  0.7635  0.3180  0.2100  0.2000   9\n",
      "24    F  0.615  0.480  0.165  1.1615  0.5130  0.3010  0.3050  10\n",
      "25    F  0.560  0.440  0.140  0.9285  0.3825  0.1880  0.3000  11\n",
      "26    F  0.580  0.450  0.185  0.9955  0.3945  0.2720  0.2850  11\n",
      "27    M  0.590  0.445  0.140  0.9310  0.3560  0.2340  0.2800  12\n",
      "28    M  0.605  0.475  0.180  0.9365  0.3940  0.2190  0.2950  15\n",
      "29    M  0.575  0.425  0.140  0.8635  0.3930  0.2270  0.2000  11\n",
      "...  ..    ...    ...    ...     ...     ...     ...     ...  ..\n",
      "4147  M  0.695  0.550  0.195  1.6645  0.7270  0.3600  0.4450  11\n",
      "4148  M  0.770  0.605  0.175  2.0505  0.8005  0.5260  0.3550  11\n",
      "4149  I  0.280  0.215  0.070  0.1240  0.0630  0.0215  0.0300   6\n",
      "4150  I  0.330  0.230  0.080  0.1400  0.0565  0.0365  0.0460   7\n",
      "4151  I  0.350  0.250  0.075  0.1695  0.0835  0.0355  0.0410   6\n",
      "4152  I  0.370  0.280  0.090  0.2180  0.0995  0.0545  0.0615   7\n",
      "4153  I  0.430  0.315  0.115  0.3840  0.1885  0.0715  0.1100   8\n",
      "4154  I  0.435  0.330  0.095  0.3930  0.2190  0.0750  0.0885   6\n",
      "4155  I  0.440  0.350  0.110  0.3805  0.1575  0.0895  0.1150   6\n",
      "4156  M  0.475  0.370  0.110  0.4895  0.2185  0.1070  0.1460   8\n",
      "4157  M  0.475  0.360  0.140  0.5135  0.2410  0.1045  0.1550   8\n",
      "4158  I  0.480  0.355  0.110  0.4495  0.2010  0.0890  0.1400   8\n",
      "4159  F  0.560  0.440  0.135  0.8025  0.3500  0.1615  0.2590   9\n",
      "4160  F  0.585  0.475  0.165  1.0530  0.4580  0.2170  0.3000  11\n",
      "4161  F  0.585  0.455  0.170  0.9945  0.4255  0.2630  0.2845  11\n",
      "4162  M  0.385  0.255  0.100  0.3175  0.1370  0.0680  0.0920   8\n",
      "4163  I  0.390  0.310  0.085  0.3440  0.1810  0.0695  0.0790   7\n",
      "4164  I  0.390  0.290  0.100  0.2845  0.1255  0.0635  0.0810   7\n",
      "4165  I  0.405  0.300  0.085  0.3035  0.1500  0.0505  0.0880   7\n",
      "4166  I  0.475  0.365  0.115  0.4990  0.2320  0.0885  0.1560  10\n",
      "4167  M  0.500  0.380  0.125  0.5770  0.2690  0.1265  0.1535   9\n",
      "4168  F  0.515  0.400  0.125  0.6150  0.2865  0.1230  0.1765   8\n",
      "4169  M  0.520  0.385  0.165  0.7910  0.3750  0.1800  0.1815  10\n",
      "4170  M  0.550  0.430  0.130  0.8395  0.3155  0.1955  0.2405  10\n",
      "4171  M  0.560  0.430  0.155  0.8675  0.4000  0.1720  0.2290   8\n",
      "4172  F  0.565  0.450  0.165  0.8870  0.3700  0.2390  0.2490  11\n",
      "4173  M  0.590  0.440  0.135  0.9660  0.4390  0.2145  0.2605  10\n",
      "4174  M  0.600  0.475  0.205  1.1760  0.5255  0.2875  0.3080   9\n",
      "4175  F  0.625  0.485  0.150  1.0945  0.5310  0.2610  0.2960  10\n",
      "4176  M  0.710  0.555  0.195  1.9485  0.9455  0.3765  0.4950  12\n",
      "\n",
      "[4177 rows x 9 columns]\n"
     ]
    },
    {
     "data": {
      "text/plain": [
       "[<matplotlib.lines.Line2D at 0x190095111d0>]"
      ]
     },
     "execution_count": 11,
     "metadata": {},
     "output_type": "execute_result"
    },
    {
     "data": {
      "image/png": "[encoded data removed]",
      "text/plain": [
       "<Figure size 432x288 with 1 Axes>"
      ]
     },
     "metadata": {
      "needs_background": "light"
     },
     "output_type": "display_data"
    }
   ],
   "source": [
    "df = pd.read_csv('abalone.data', header = None)\n",
    "print(df)"
   ]
  },
  {
   "cell_type": "markdown",
   "metadata": {},
   "source": [
    "if you double left click the margin to the left of that data frame above it will shrink it down and give it a scroll bar, which can make it more manageable\n",
    "\n",
    "now try moving or deleting your abalone.data and using ctrl+enter to run the code cell above. you should see it throw a error not found. this is because it cant find the abalone.data! when you open a jupyter notebook, it will have all of the previous code that was run, saved. meaning you can see calculations done on data that you dont actually have! this is useful because I can show you lots of different things like plots and tables that i have derived from a specific dataset without actually having the dataset!"
   ]
  },
  {
   "cell_type": "markdown",
   "metadata": {},
   "source": [
    "## But Stuart I could have just done this in spyder with a pandas dataframe...\n",
    "\n",
    "Yes but then whoever you are talking to needs to have spyder installed, the modules that you used, the dataset that you used, and they need to know how to run your code."
   ]
  },
  {
   "cell_type": "code",
   "execution_count": 12,
   "metadata": {},
   "outputs": [
    {
     "data": {
      "text/plain": [
       "[<matplotlib.lines.Line2D at 0x19009562160>]"
      ]
     },
     "execution_count": 12,
     "metadata": {},
     "output_type": "execute_result"
    },
    {
     "data": {
      "image/png": "[encoded data removed]",
      "text/plain": [
       "<Figure size 432x288 with 1 Axes>"
      ]
     },
     "metadata": {
      "needs_background": "light"
     },
     "output_type": "display_data"
    }
   ],
   "source": [
    "x = np.arange(10)\n",
    "plt.figure()\n",
    "plt.plot(x)"
   ]
  },
  {
   "cell_type": "markdown",
   "metadata": {},
   "source": [
    "above is just an example showing that i could plot something relevant, you could see the code i used to create said plot, and you wouldn't need to actually have the dataset that i used."
   ]
  }
 ],
 "metadata": {
  "kernelspec": {
   "display_name": "Python 3",
   "language": "python",
   "name": "python3"
  },
  "language_info": {
   "codemirror_mode": {
    "name": "ipython",
    "version": 3
   },
   "file_extension": ".py",
   "mimetype": "text/x-python",
   "name": "python",
   "nbconvert_exporter": "python",
   "pygments_lexer": "ipython3",
   "version": "3.7.3"
  }
 },
 "nbformat": 4,
 "nbformat_minor": 1
}
